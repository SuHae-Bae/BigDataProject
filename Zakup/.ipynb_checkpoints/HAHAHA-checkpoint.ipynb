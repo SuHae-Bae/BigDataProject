{
 "cells": [
  {
   "cell_type": "code",
   "execution_count": 1,
   "metadata": {},
   "outputs": [],
   "source": [
    "from selenium import webdriver\n",
    "from time import sleep"
   ]
  },
  {
   "cell_type": "code",
   "execution_count": 2,
   "metadata": {},
   "outputs": [],
   "source": [
    "import requests\n",
    "from bs4 import BeautifulSoup\n",
    "\n",
    "driver = webdriver.Chrome('./chromedriver')\n",
    "# 나중에 이거 주소를 리스트에 넣고 하나씩 반복해서 돌리면 될거같음\n",
    "driver.get('https://new.land.naver.com/complexes?ms=37.5771187,126.9298968,12&a=APT:JGC:ABYG&e=RETAIL')\n"
   ]
  },
  {
   "cell_type": "code",
   "execution_count": 3,
   "metadata": {},
   "outputs": [],
   "source": [
    "sleep(3)\n",
    "\n",
    "content = BeautifulSoup(driver.page_source, 'html.parser')\n",
    "driver.find_element_by_css_selector(\"#wrap > div.lnb_wrap > a:nth-child(4)\").click()\n",
    "sleep(1)\n",
    "driver.find_element_by_css_selector(\"#type1\").click()\n",
    "sleep(1)\n",
    "driver.find_element_by_css_selector(\"#list > div > div > div.list_fixed > div > a:nth-child(2)\").click()\n",
    "sleep(1)\n",
    "driver.find_element_by_css_selector(\"#list > div > div > div.list_fixed > div > div > label\").click()\n",
    "sleep(1)"
   ]
  },
  {
   "cell_type": "code",
   "execution_count": 4,
   "metadata": {},
   "outputs": [
    {
     "name": "stdout",
     "output_type": "stream",
     "text": [
      "loading complete\n"
     ]
    }
   ],
   "source": [
    "from selenium.webdriver.common.action_chains import ActionChains\n",
    "from selenium.webdriver.common.keys import Keys\n",
    "\n",
    "actions = ActionChains(driver)\n",
    "\n",
    "scrollArea = driver.find_element_by_xpath('//*[@id=\"listContents1\"]/div')\n",
    "sleep(1)\n",
    "\n",
    "# driver.execute_script(\"arguments[0].scrollTop = arguments[0].scrollHeight\", scrollArea)\n",
    "\n",
    "# actions.move_to_element(element).perform()\n",
    "last_height = driver.execute_script(\"arguments[0].scrollHeight;\", scrollArea)\n",
    "while(True):\n",
    "    #스크롤 길이를 늘여줌\n",
    "    for _ in range(100):\n",
    "        driver.execute_script(\"arguments[0].scrollTop = arguments[0].scrollHeight\", scrollArea)\n",
    "        sleep(1)\n",
    "    new_height = driver.execute_script(\"arguments[0].scrollHeight;\", scrollArea)\n",
    "    if new_height == last_height:\n",
    "        break\n",
    "    last_height = new_height\n",
    "\n",
    "print(\"loading complete\")\n",
    "# new_height = driver.execute_script(\"arguments[0].scrollTo(0, 0);\", scrollArea)\n",
    "# 스크롤바 제일 위로 올라감\n",
    "driver.execute_script(\"arguments[0].scrollTo(0,0);\", scrollArea)\n",
    "sleep(3)"
   ]
  },
  {
   "cell_type": "code",
   "execution_count": 18,
   "metadata": {},
   "outputs": [
    {
     "name": "stdout",
     "output_type": "stream",
     "text": [
      "['서울시', '서대문구', '연희동']\n",
      "['월세', '1,000/55', '월세', '1,000/50', '월세', '1,000/40', '전세', '7,000', '전세', '1억', '월세', '1억/50', '월세', '500/55', '월세', '1억/60', '전세', '2억 4,500', '월세', '3,000/45', '월세', '3,000/45', '월세', '500/60', '월세', '500/55', '월세', '1,000/45', '월세', '500/50', '월세', '1,000/45', '전세', '1억 6,000', '월세', '2,000/40', '전세', '1억 2,000', '전세', '6,000', '월세', '3,000/55', '월세', '2,000/70', '월세', '2,000/50', '월세', '1,000/60', '전세', '9,500', '전세', '1억 3,000', '월세', '1,000/70', '월세', '500/50', '월세', '1,000/70', '전세', '7,000', '월세', '3,000/30', '월세', '1,000/50', '전세', '1억 1,000', '월세', '1,000/60', '월세', '3,000/35', '월세', '6,000/20', '월세', '1,000/60', '월세', '9,000/5', '월세', '1,000/63', '월세', '1,000/63', '월세', '1,000/45', '~1,000/50', '월세', '500/45', '월세', '1,000/50', '월세', '1,500/60', '월세', '1,000/65', '월세', '500/40', '월세', '1,000/60', '월세', '1,000/60', '월세', '2,000/50', '월세', '500/60', '전세', '1억 7,500', '월세', '1,000/60', '월세', '2,000/80', '월세', '500/30', '월세', '1,000/42', '월세', '2,000/50', '월세', '1,000/60', '월세', '1,000/70', '월세', '1,000/55', '월세', '1,000/35', '월세', '300/40', '월세', '500/50', '월세', '3,000/55', '월세', '1,000/63', '월세', '1,000/65', '월세', '500/53', '월세', '1,000/50', '월세', '500/44', '전세', '1억 3,000', '월세', '7,000/15', '월세', '8,500/30', '전세', '1억 3,000', '월세', '300/25', '전세', '1억 3,000', '월세', '1,000/45', '월세', '1,000/40', '월세', '1,000/75', '월세', '1,000/60', '월세', '500/40', '월세', '300/45', '전세', '1억 4,000', '월세', '1,000/60', '월세', '1,000/80', '월세', '3,000/80', '전세', '1억 7,000', '전세', '1억 5,000', '월세', '6,000/20', '월세', '300/40', '전세', '9,500', '전세', '1억', '전세', '1억 4,000', '월세', '1억/20', '월세', '1,000/75', '월세', '1억 3,000/501억/65', '1억 3,000/50', '월세', '2,000/100', '월세', '1,000/80', '전세', '6,500', '월세', '5,000/15', '전세', '1억 8,500', '전세', '1억 8,500', '전세', '1억 5,000', '월세', '1,000/50', '월세', '1,000/50', '전세', '9,500', '월세', '500/64', '전세', '6,000', '전세', '1억', '월세', '1,000/65', '전세', '9,000', '전세', '2억 3,000', '전세', '9,500', '전세', '7,000', '월세', '7,000/25', '월세', '5,000/30', '월세', '1,000/49', '월세', '1,000/55', '월세', '2,000/60', '전세', '3,000', '월세', '2,000/65', '전세', '1억 5,000', '월세', '500/65', '월세', '500/45', '월세', '1,000/60', '전세', '8,000', '월세', '1,000/75', '월세', '500/60', '전세', '1억', '전세', '1억 5,000', '전세', '7,000', '월세', '500/40', '월세', '2,000/100', '월세', '1,500/75', '월세', '1,000/50', '월세', '2,000/40', '월세', '500/50', '월세', '500/50', '월세', '6,000/20', '월세', '500/40', '전세', '1억 5,000', '월세', '1,000/65', '전세', '1억 3,000', '월세', '500/50', '전세', '9,000', '월세', '2,000/40', '월세', '300/40', '월세', '2,000/50', '월세', '1,000/65', '월세', '9,000/5', '월세', '1,000/60', '월세', '1,000/40', '전세', '4,500', '월세', '500/55', '월세', '3,000/55', '월세', '1,000/75', '월세', '500/50', '월세', '110/110', '전세', '8,500', '월세', '2,000/45', '전세', '1억 6,000', '월세', '1억/65', '월세', '1,000/50', '월세', '1,000/35', '월세', '1,000/50', '전세', '1억 5,000', '월세', '2,000/50', '월세', '500/40', '~500/50', '전세', '8,000', '월세', '3,000/25', '월세', '500/43', '월세', '500/40', '전세', '1억 4,000', '전세', '6,000', '월세', '2,000/50', '월세', '500/45', '전세', '4,500', '월세', '1,000/60', '월세', '500/60', '월세', '1,000/80', '월세', '500/44', '월세', '110/110', '월세', '1,000/65', '월세', '1,000/75', '월세', '5,000/30', '서울시', '서대문구', '연희동']\n"
     ]
    }
   ],
   "source": [
    "content = BeautifulSoup(driver.page_source, 'html.parser')\n",
    "\n",
    "# 나중에 아이템을 하나씩 찾도록 바꾸기\n",
    "list_items = content.findAll('span',{'class':[\"area is-selected\",\"type\",\"price\"]})\n",
    "list_items_a = content.select('#region_filter > div > a > span')\n",
    "list_items_b = []\n",
    "list_items_c = []\n",
    "for item in list_items_a:\n",
    "    list_items_b.append(item.text)\n",
    "    \n",
    "for item in list_items:\n",
    "    list_items_c.append(item.text)\n",
    "class House:\n",
    "    def __init__(self, payment, price):\n",
    "        self.payment = payment\n",
    "        self.price = price\n",
    "    \n",
    "    def __str__(self):\n",
    "        return self.payment + \" = \" + self.price\n",
    "    \n",
    "    def __repr__(self):\n",
    "        return str(self)\n",
    "# print(list_items)    \n",
    "print(list_items_b)\n",
    "print(list_items_c)"
   ]
  },
  {
   "cell_type": "code",
   "execution_count": 21,
   "metadata": {},
   "outputs": [
    {
     "name": "stdout",
     "output_type": "stream",
     "text": [
      "[]\n"
     ]
    }
   ],
   "source": [
    "items = []\n",
    "for item in list_items:\n",
    "    item_payment = item.type\n",
    "    item_price = item.price\n",
    "    \n",
    "    if item_payment is not None and item_price is not None:\n",
    "        new_item = House(item_payment.text, item_price.text)\n",
    "        items.append(new_item)\n",
    "        \n",
    "print(items)\n",
    "    "
   ]
  },
  {
   "cell_type": "code",
   "execution_count": 7,
   "metadata": {},
   "outputs": [
    {
     "ename": "TypeError",
     "evalue": "unsupported operand type(s) for +: 'Tag' and 'str'",
     "output_type": "error",
     "traceback": [
      "\u001b[1;31m---------------------------------------------------------------------------\u001b[0m",
      "\u001b[1;31mTypeError\u001b[0m                                 Traceback (most recent call last)",
      "\u001b[1;32m<ipython-input-7-8ca88fe60359>\u001b[0m in \u001b[0;36m<module>\u001b[1;34m\u001b[0m\n\u001b[0;32m      4\u001b[0m     \u001b[0mhouse\u001b[0m\u001b[1;33m.\u001b[0m\u001b[0mappend\u001b[0m\u001b[1;33m(\u001b[0m\u001b[0mnew\u001b[0m\u001b[1;33m)\u001b[0m\u001b[1;33m\u001b[0m\u001b[0m\n\u001b[0;32m      5\u001b[0m \u001b[1;33m\u001b[0m\u001b[0m\n\u001b[1;32m----> 6\u001b[1;33m \u001b[0mprint\u001b[0m\u001b[1;33m(\u001b[0m\u001b[0mhouse\u001b[0m\u001b[1;33m)\u001b[0m\u001b[1;33m\u001b[0m\u001b[0m\n\u001b[0m",
      "\u001b[1;32m<ipython-input-5-28f59c42657a>\u001b[0m in \u001b[0;36m__repr__\u001b[1;34m(self)\u001b[0m\n\u001b[0;32m     13\u001b[0m \u001b[1;33m\u001b[0m\u001b[0m\n\u001b[0;32m     14\u001b[0m     \u001b[1;32mdef\u001b[0m \u001b[0m__repr__\u001b[0m\u001b[1;33m(\u001b[0m\u001b[0mself\u001b[0m\u001b[1;33m)\u001b[0m\u001b[1;33m:\u001b[0m\u001b[1;33m\u001b[0m\u001b[0m\n\u001b[1;32m---> 15\u001b[1;33m         \u001b[1;32mreturn\u001b[0m \u001b[0mstr\u001b[0m\u001b[1;33m(\u001b[0m\u001b[0mself\u001b[0m\u001b[1;33m)\u001b[0m\u001b[1;33m\u001b[0m\u001b[0m\n\u001b[0m\u001b[0;32m     16\u001b[0m \u001b[1;33m\u001b[0m\u001b[0m\n\u001b[0;32m     17\u001b[0m \u001b[0mprint\u001b[0m\u001b[1;33m(\u001b[0m\u001b[0mlist_items_a\u001b[0m\u001b[1;33m)\u001b[0m\u001b[1;33m\u001b[0m\u001b[0m\n",
      "\u001b[1;32m<ipython-input-5-28f59c42657a>\u001b[0m in \u001b[0;36m__str__\u001b[1;34m(self)\u001b[0m\n\u001b[0;32m     10\u001b[0m \u001b[1;33m\u001b[0m\u001b[0m\n\u001b[0;32m     11\u001b[0m     \u001b[1;32mdef\u001b[0m \u001b[0m__str__\u001b[0m\u001b[1;33m(\u001b[0m\u001b[0mself\u001b[0m\u001b[1;33m)\u001b[0m\u001b[1;33m:\u001b[0m\u001b[1;33m\u001b[0m\u001b[0m\n\u001b[1;32m---> 12\u001b[1;33m         \u001b[1;32mreturn\u001b[0m \u001b[0mself\u001b[0m\u001b[1;33m.\u001b[0m\u001b[0mpayment\u001b[0m \u001b[1;33m+\u001b[0m \u001b[1;34m\" = \"\u001b[0m \u001b[1;33m+\u001b[0m \u001b[0mself\u001b[0m\u001b[1;33m.\u001b[0m\u001b[0mprice\u001b[0m\u001b[1;33m\u001b[0m\u001b[0m\n\u001b[0m\u001b[0;32m     13\u001b[0m \u001b[1;33m\u001b[0m\u001b[0m\n\u001b[0;32m     14\u001b[0m     \u001b[1;32mdef\u001b[0m \u001b[0m__repr__\u001b[0m\u001b[1;33m(\u001b[0m\u001b[0mself\u001b[0m\u001b[1;33m)\u001b[0m\u001b[1;33m:\u001b[0m\u001b[1;33m\u001b[0m\u001b[0m\n",
      "\u001b[1;31mTypeError\u001b[0m: unsupported operand type(s) for +: 'Tag' and 'str'"
     ]
    }
   ],
   "source": [
    "house = []\n",
    "for item in range(len(list_items_a)): \n",
    "    new = House(list_items_a[item], list_items_b[item])\n",
    "    house.append(new)\n",
    "\n",
    "print(house)"
   ]
  },
  {
   "cell_type": "code",
   "execution_count": null,
   "metadata": {},
   "outputs": [],
   "source": []
  }
 ],
 "metadata": {
  "kernelspec": {
   "display_name": "Python 3",
   "language": "python",
   "name": "python3"
  },
  "language_info": {
   "codemirror_mode": {
    "name": "ipython",
    "version": 3
   },
   "file_extension": ".py",
   "mimetype": "text/x-python",
   "name": "python",
   "nbconvert_exporter": "python",
   "pygments_lexer": "ipython3",
   "version": "3.7.0"
  }
 },
 "nbformat": 4,
 "nbformat_minor": 2
}
