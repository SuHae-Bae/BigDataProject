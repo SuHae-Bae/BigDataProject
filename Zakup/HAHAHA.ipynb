{
 "cells": [
  {
   "cell_type": "code",
   "execution_count": 1,
   "metadata": {},
   "outputs": [],
   "source": [
    "from selenium import webdriver\n",
    "from time import sleep"
   ]
  },
  {
   "cell_type": "code",
   "execution_count": 2,
   "metadata": {},
   "outputs": [],
   "source": [
    "import requests\n",
    "from bs4 import BeautifulSoup\n",
    "\n",
    "driver = webdriver.Chrome('./chromedriver')\n",
    "driver.get('https://new.land.naver.com/rooms?ms=37.576192,126.921263,11&a=APT:OPST:ABYG:OBYG:GM:OR:VL:DDDGG:JWJT:SGJT:HOJT&e=RETAIL&aa=SMALLSPCRENT')\n"
   ]
  },
  {
   "cell_type": "code",
   "execution_count": 3,
   "metadata": {},
   "outputs": [
    {
     "name": "stdout",
     "output_type": "stream",
     "text": [
      "[<span class=\"type\">월세</span>, <span class=\"type\">월세</span>, <span class=\"type\">월세</span>, <span class=\"type\">전세</span>, <span class=\"type\">전세</span>, <span class=\"type\">전세</span>, <span class=\"type\">전세</span>, <span class=\"type\">전세</span>, <span class=\"type\">전세</span>, <span class=\"type\">월세</span>, <span class=\"type\">전세</span>, <span class=\"type\">전세</span>, <span class=\"type\">월세</span>, <span class=\"type\">월세</span>, <span class=\"type\">월세</span>, <span class=\"type\">월세</span>, <span class=\"type\">전세</span>, <span class=\"type\">전세</span>, <span class=\"type\">월세</span>, <span class=\"type\">월세</span>]\n"
     ]
    }
   ],
   "source": [
    "sleep(3)\n",
    "\n",
    "content = BeautifulSoup(driver.page_source, 'html.parser')\n",
    "inputs = content.findAll('span',{'class':\"type\"})\n",
    "\n",
    "print(inputs)"
   ]
  },
  {
   "cell_type": "code",
   "execution_count": 4,
   "metadata": {},
   "outputs": [
    {
     "name": "stdout",
     "output_type": "stream",
     "text": [
      "loading complete\n"
     ]
    }
   ],
   "source": [
    "from selenium.webdriver.common.action_chains import ActionChains\n",
    "from selenium.webdriver.common.keys import Keys\n",
    "\n",
    "actions = ActionChains(driver)\n",
    "last_height = driver.execute_script(\"return document.body.scrollHeight\")\n",
    "while(True):\n",
    "    for _ in range(15):\n",
    "        actions.send_keys(Keys.SPACE).perform()\n",
    "        sleep(1)\n",
    "    new_height = driver.execute_script(\"return document.body.scrollHeight\")\n",
    "    if new_height == last_height:\n",
    "        break\n",
    "    last_height = new_height\n",
    "\n",
    "print(\"loading complete\")\n",
    "driver.execute_script(\"window.scrollTo(0, 0);\")\n",
    "sleep(3)"
   ]
  },
  {
   "cell_type": "code",
   "execution_count": 5,
   "metadata": {},
   "outputs": [
    {
     "name": "stdout",
     "output_type": "stream",
     "text": [
      "[<span class=\"type\">월세</span>, <span class=\"type\">월세</span>, <span class=\"type\">월세</span>, <span class=\"type\">전세</span>, <span class=\"type\">전세</span>, <span class=\"type\">전세</span>, <span class=\"type\">전세</span>, <span class=\"type\">전세</span>, <span class=\"type\">전세</span>, <span class=\"type\">월세</span>, <span class=\"type\">전세</span>, <span class=\"type\">전세</span>, <span class=\"type\">월세</span>, <span class=\"type\">월세</span>, <span class=\"type\">월세</span>, <span class=\"type\">월세</span>, <span class=\"type\">전세</span>, <span class=\"type\">전세</span>, <span class=\"type\">월세</span>, <span class=\"type\">월세</span>]\n"
     ]
    }
   ],
   "source": [
    "content = BeautifulSoup(driver.page_source, 'html.parser')\n",
    "\n",
    "list_items_a = content.findAll('span',{'class':\"type\"})\n",
    "list_items_b = content.findAll('span',{'class':\"price\"})\n",
    "\n",
    "class House:\n",
    "    def __init__(self, payment, price):\n",
    "        self.payment = payment\n",
    "        self.price = price\n",
    "    \n",
    "    def __str__(self):\n",
    "        return self.payment + \" = \" + self.price\n",
    "    \n",
    "    def __repr__(self):\n",
    "        return str(self)\n",
    "    \n",
    "print(list_items_a)"
   ]
  },
  {
   "cell_type": "code",
   "execution_count": 6,
   "metadata": {},
   "outputs": [],
   "source": [
    "a = [ ]\n",
    "b = [ ]\n",
    "\n",
    "for item in list_items_a:\n",
    "    i = item.string\n",
    "    a.append(i)\n",
    "\n",
    "for item in list_items_b:\n",
    "    i = item.string\n",
    "    b.append(i)\n",
    "    "
   ]
  },
  {
   "cell_type": "code",
   "execution_count": 7,
   "metadata": {},
   "outputs": [
    {
     "ename": "TypeError",
     "evalue": "unsupported operand type(s) for +: 'Tag' and 'str'",
     "output_type": "error",
     "traceback": [
      "\u001b[1;31m---------------------------------------------------------------------------\u001b[0m",
      "\u001b[1;31mTypeError\u001b[0m                                 Traceback (most recent call last)",
      "\u001b[1;32m<ipython-input-7-8ca88fe60359>\u001b[0m in \u001b[0;36m<module>\u001b[1;34m\u001b[0m\n\u001b[0;32m      4\u001b[0m     \u001b[0mhouse\u001b[0m\u001b[1;33m.\u001b[0m\u001b[0mappend\u001b[0m\u001b[1;33m(\u001b[0m\u001b[0mnew\u001b[0m\u001b[1;33m)\u001b[0m\u001b[1;33m\u001b[0m\u001b[0m\n\u001b[0;32m      5\u001b[0m \u001b[1;33m\u001b[0m\u001b[0m\n\u001b[1;32m----> 6\u001b[1;33m \u001b[0mprint\u001b[0m\u001b[1;33m(\u001b[0m\u001b[0mhouse\u001b[0m\u001b[1;33m)\u001b[0m\u001b[1;33m\u001b[0m\u001b[0m\n\u001b[0m",
      "\u001b[1;32m<ipython-input-5-28f59c42657a>\u001b[0m in \u001b[0;36m__repr__\u001b[1;34m(self)\u001b[0m\n\u001b[0;32m     13\u001b[0m \u001b[1;33m\u001b[0m\u001b[0m\n\u001b[0;32m     14\u001b[0m     \u001b[1;32mdef\u001b[0m \u001b[0m__repr__\u001b[0m\u001b[1;33m(\u001b[0m\u001b[0mself\u001b[0m\u001b[1;33m)\u001b[0m\u001b[1;33m:\u001b[0m\u001b[1;33m\u001b[0m\u001b[0m\n\u001b[1;32m---> 15\u001b[1;33m         \u001b[1;32mreturn\u001b[0m \u001b[0mstr\u001b[0m\u001b[1;33m(\u001b[0m\u001b[0mself\u001b[0m\u001b[1;33m)\u001b[0m\u001b[1;33m\u001b[0m\u001b[0m\n\u001b[0m\u001b[0;32m     16\u001b[0m \u001b[1;33m\u001b[0m\u001b[0m\n\u001b[0;32m     17\u001b[0m \u001b[0mprint\u001b[0m\u001b[1;33m(\u001b[0m\u001b[0mlist_items_a\u001b[0m\u001b[1;33m)\u001b[0m\u001b[1;33m\u001b[0m\u001b[0m\n",
      "\u001b[1;32m<ipython-input-5-28f59c42657a>\u001b[0m in \u001b[0;36m__str__\u001b[1;34m(self)\u001b[0m\n\u001b[0;32m     10\u001b[0m \u001b[1;33m\u001b[0m\u001b[0m\n\u001b[0;32m     11\u001b[0m     \u001b[1;32mdef\u001b[0m \u001b[0m__str__\u001b[0m\u001b[1;33m(\u001b[0m\u001b[0mself\u001b[0m\u001b[1;33m)\u001b[0m\u001b[1;33m:\u001b[0m\u001b[1;33m\u001b[0m\u001b[0m\n\u001b[1;32m---> 12\u001b[1;33m         \u001b[1;32mreturn\u001b[0m \u001b[0mself\u001b[0m\u001b[1;33m.\u001b[0m\u001b[0mpayment\u001b[0m \u001b[1;33m+\u001b[0m \u001b[1;34m\" = \"\u001b[0m \u001b[1;33m+\u001b[0m \u001b[0mself\u001b[0m\u001b[1;33m.\u001b[0m\u001b[0mprice\u001b[0m\u001b[1;33m\u001b[0m\u001b[0m\n\u001b[0m\u001b[0;32m     13\u001b[0m \u001b[1;33m\u001b[0m\u001b[0m\n\u001b[0;32m     14\u001b[0m     \u001b[1;32mdef\u001b[0m \u001b[0m__repr__\u001b[0m\u001b[1;33m(\u001b[0m\u001b[0mself\u001b[0m\u001b[1;33m)\u001b[0m\u001b[1;33m:\u001b[0m\u001b[1;33m\u001b[0m\u001b[0m\n",
      "\u001b[1;31mTypeError\u001b[0m: unsupported operand type(s) for +: 'Tag' and 'str'"
     ]
    }
   ],
   "source": [
    "house = []\n",
    "for item in range(len(list_items_a)): \n",
    "    new = House(list_items_a[item], list_items_b[item])\n",
    "    house.append(new)\n",
    "\n",
    "print(house)"
   ]
  },
  {
   "cell_type": "code",
   "execution_count": null,
   "metadata": {},
   "outputs": [],
   "source": []
  }
 ],
 "metadata": {
  "kernelspec": {
   "display_name": "Python 3",
   "language": "python",
   "name": "python3"
  },
  "language_info": {
   "codemirror_mode": {
    "name": "ipython",
    "version": 3
   },
   "file_extension": ".py",
   "mimetype": "text/x-python",
   "name": "python",
   "nbconvert_exporter": "python",
   "pygments_lexer": "ipython3",
   "version": "3.7.0"
  }
 },
 "nbformat": 4,
 "nbformat_minor": 2
}
