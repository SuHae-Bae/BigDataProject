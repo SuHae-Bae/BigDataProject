{
 "cells": [
  {
   "cell_type": "code",
   "execution_count": 1,
   "metadata": {},
   "outputs": [],
   "source": [
    "from bs4 import BeautifulSoup\n",
    "import urllib.request\n",
    "\n",
    "user_agent = 'Mozilla/5.0'\n",
    "headers = { 'User-Agent': user_agent }\n",
    "target_url = 'https://new.land.naver.com/rooms?ms=37.365468,126.939493,11&a=APT:OPST:ABYG:OBYG:GM:OR:VL:DDDGG:JWJT:SGJT:HOJT&e=RETAIL&aa=SMALLSPCRENT'\n",
    "\n",
    "request = urllib.request.Request(url=target_url, headers=headers)\n",
    "req = urllib.request.urlopen(request)\n",
    "data = req.read()\n",
    "soup = BeautifulSoup(data, 'html.parser')"
   ]
  },
  {
   "cell_type": "code",
   "execution_count": 2,
   "metadata": {},
   "outputs": [],
   "source": [
    "class House:\n",
    "    def __init__(self, case, deposit, rentfee, roomtype, address):\n",
    "        self.case = case\n",
    "        self.deposit = deposit\n",
    "        self.rentfee = rentfee\n",
    "        self.roomtype = roomtype\n",
    "        self.address = address\n",
    "    \n",
    "    def __str__(self):\n",
    "        return self.case + \" = \" + self.money + \" = \" + self.address\n",
    "    \n",
    "    def __repr__(self):\n",
    "        return str(self)"
   ]
  },
  {
   "cell_type": "code",
   "execution_count": 3,
   "metadata": {},
   "outputs": [],
   "source": [
    "request = urllib.request.Request(url='https://new.land.naver.com/rooms?ms=37.365468,126.939493,11&a=APT:OPST:ABYG:OBYG:GM:OR:VL:DDDGG:JWJT:SGJT:HOJT&e=RETAIL&aa=SMALLSPCRENT')\n",
    "req = urllib.request.urlopen(request)\n",
    "data = req.read()\n",
    "soup = BeautifulSoup(data, 'html.parser')"
   ]
  },
  {
   "cell_type": "code",
   "execution_count": 8,
   "metadata": {},
   "outputs": [
    {
     "name": "stdout",
     "output_type": "stream",
     "text": [
      "[]\n"
     ]
    }
   ],
   "source": [
    "\n",
    "case = soup.select(\"span.type\")\n",
    "money = soup.select(\"span.price\")\n",
    "roomtype = soup.select(\"strong.type\")\n",
    "\n",
    "a = []\n",
    "for item in case:\n",
    "    i = item.string\n",
    "    a.append(i)\n",
    "    \n",
    "    \n",
    "print(a)"
   ]
  },
  {
   "cell_type": "code",
   "execution_count": null,
   "metadata": {},
   "outputs": [],
   "source": []
  }
 ],
 "metadata": {
  "kernelspec": {
   "display_name": "Python 3",
   "language": "python",
   "name": "python3"
  },
  "language_info": {
   "codemirror_mode": {
    "name": "ipython",
    "version": 3
   },
   "file_extension": ".py",
   "mimetype": "text/x-python",
   "name": "python",
   "nbconvert_exporter": "python",
   "pygments_lexer": "ipython3",
   "version": "3.7.0"
  }
 },
 "nbformat": 4,
 "nbformat_minor": 2
}
