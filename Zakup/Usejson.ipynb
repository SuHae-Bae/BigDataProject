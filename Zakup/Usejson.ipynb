{
 "cells": [
  {
   "cell_type": "code",
   "execution_count": 1,
   "metadata": {},
   "outputs": [
    {
     "name": "stderr",
     "output_type": "stream",
     "text": [
      "INFO:root:[매매] 446동 3/20층 4억만원\n",
      "INFO:root:[매매] 448동 5/30층 3억 8,000만원\n",
      "INFO:root:[매매] 448동 7/30층 4억 2,000만원\n",
      "INFO:root:[매매] 450동 18/30층 4억만원\n",
      "INFO:root:[매매] 442동 18/20층 3억 9,000만원\n",
      "INFO:root:[매매] 452동 8/23층 3억 9,000만원\n",
      "INFO:root:[매매] 450동 3/30층 3억 9,200만원\n",
      "INFO:root:[매매] 450동 19/30층 4억만원\n",
      "INFO:root:[매매] 448동 21/30층 4억만원\n",
      "INFO:root:[매매] 451동 25/27층 4억 1,000만원\n",
      "INFO:root:[매매] 452동 5/23층 3억 9,000만원\n",
      "INFO:root:[매매] 447동 19/27층 3억 9,000만원\n",
      "INFO:root:[매매] 445동 8/23층 3억 8,500만원\n",
      "INFO:root:[매매] 453동 12/23층 3억 8,000만원\n",
      "INFO:root:[매매] 452동 8/23층 4억만원\n",
      "INFO:root:[매매] 445동 9/23층 4억 3,000만원\n",
      "INFO:root:[매매] 442동 19/20층 4억만원\n",
      "INFO:root:[매매] 449동 29/30층 4억만원\n",
      "INFO:root:[매매] 452동 15/23층 4억 1,000만원\n",
      "INFO:root:[매매] 448동 19/30층 4억 5,000만원\n",
      "INFO:root:[매매] 452동 7/23층 4억만원\n",
      "INFO:root:[매매] 445동 22/23층 4억 1,000만원\n",
      "INFO:root:[매매] 453동 12/23층 4억 1,000만원\n",
      "INFO:root:[매매] 451동 14/27층 4억 3,500만원\n",
      "INFO:root:[매매] 452동 9/23층 3억 9,000만원\n",
      "INFO:root:[매매] 449동 27/30층 4억 3,000만원\n",
      "INFO:root:[매매] 452동 5/23층 3억 9,000만원\n",
      "INFO:root:[매매] 447동 5/27층 3억 9,500만원\n",
      "INFO:root:[매매] 452동 5/23층 3억 9,000만원\n",
      "INFO:root:[매매] 451동 19/27층 3억 8,200만원\n"
     ]
    }
   ],
   "source": [
    "import requests\n",
    "import json\n",
    "import logging\n",
    "\n",
    "URL = \"https://m.land.naver.com/cluster/ajax/articleList\"\n",
    "\n",
    "param = {\n",
    "    'hscpNo': '19672',\n",
    "    'tradTpCd': 'A1',\n",
    "    'order': 'date_',\n",
    "    'showR0': 'N',\n",
    "}\n",
    "\n",
    "header = {\n",
    "    'User-Agent': 'Mozilla/5.0 (Windows NT 10.0; Win64; x64) AppleWebKit/537.36 (KHTML, like Gecko) Chrome/65.0.3325.220 Whale/1.3.51.7 Safari/537.36',\n",
    "    'Referer': 'https://m.land.naver.com/'\n",
    "}\n",
    "\n",
    "logging.basicConfig(level=logging.INFO)\n",
    "page = 0\n",
    "\n",
    "while True:\n",
    "    page += 1\n",
    "    param['page'] = page\n",
    "\n",
    "    resp = requests.get(URL, params=param, headers=header)\n",
    "    if resp.status_code != 200:\n",
    "        logging.error('invalid status: %d' % resp.status_code)\n",
    "        break\n",
    "\n",
    "    data = json.loads(resp.text)\n",
    "    result = data['result']\n",
    "    if result is None:\n",
    "        logging.error('no result')\n",
    "        break\n",
    "\n",
    "    for item in result['list']:\n",
    "        if float(item['spc2']) < 80 or float(item['spc2']) > 85:\n",
    "            continue\n",
    "        logging.info('[%s] %s %s층 %s만원' % (item['tradTpNm'], item['bildNm'], item['flrInfo'], item['prcInfo']))\n",
    "\n",
    "    if result['moreDataYn'] == 'N':\n",
    "        break"
   ]
  },
  {
   "cell_type": "code",
   "execution_count": null,
   "metadata": {},
   "outputs": [],
   "source": []
  }
 ],
 "metadata": {
  "kernelspec": {
   "display_name": "Python 3",
   "language": "python",
   "name": "python3"
  },
  "language_info": {
   "codemirror_mode": {
    "name": "ipython",
    "version": 3
   },
   "file_extension": ".py",
   "mimetype": "text/x-python",
   "name": "python",
   "nbconvert_exporter": "python",
   "pygments_lexer": "ipython3",
   "version": "3.7.0"
  }
 },
 "nbformat": 4,
 "nbformat_minor": 2
}
